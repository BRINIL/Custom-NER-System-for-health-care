{
  "cells": [
    {
      "cell_type": "code",
      "execution_count": 1,
      "metadata": {
        "colab": {
          "base_uri": "https://localhost:8080/"
        },
        "id": "RscrZMI_ysPJ",
        "outputId": "9b9aebd4-4605-4954-dbe4-b1f75d0ffb3c"
      },
      "outputs": [
        {
          "name": "stdout",
          "output_type": "stream",
          "text": [
            "Collecting sklearn_crfsuite\n",
            "  Using cached sklearn_crfsuite-0.3.6-py2.py3-none-any.whl (12 kB)\n",
            "Collecting python-crfsuite>=0.8.3 (from sklearn_crfsuite)\n",
            "  Downloading python-crfsuite-0.9.9.tar.gz (440 kB)\n",
            "     ---------------------------------------- 0.0/440.8 kB ? eta -:--:--\n",
            "     ------------ ------------------------- 143.4/440.8 kB 4.3 MB/s eta 0:00:01\n",
            "     ------------------------ ------------- 286.7/440.8 kB 4.4 MB/s eta 0:00:01\n",
            "     -------------------------------------- 440.8/440.8 kB 3.9 MB/s eta 0:00:00\n",
            "  Preparing metadata (setup.py): started\n",
            "  Preparing metadata (setup.py): finished with status 'done'\n",
            "Requirement already satisfied: six in d:\\anaconda\\lib\\site-packages (from sklearn_crfsuite) (1.16.0)\n",
            "Requirement already satisfied: tabulate in d:\\anaconda\\lib\\site-packages (from sklearn_crfsuite) (0.8.10)\n",
            "Requirement already satisfied: tqdm>=2.0 in d:\\anaconda\\lib\\site-packages (from sklearn_crfsuite) (4.65.0)\n",
            "Requirement already satisfied: colorama in d:\\anaconda\\lib\\site-packages (from tqdm>=2.0->sklearn_crfsuite) (0.4.6)\n",
            "Building wheels for collected packages: python-crfsuite\n",
            "  Building wheel for python-crfsuite (setup.py): started\n",
            "  Building wheel for python-crfsuite (setup.py): finished with status 'done'\n",
            "  Created wheel for python-crfsuite: filename=python_crfsuite-0.9.9-cp311-cp311-win_amd64.whl size=136652 sha256=eae63b1bb0621e15805f34426a9e7fff392d8e02e0339df43818963d27eff8d6\n",
            "  Stored in directory: c:\\users\\brinil john\\appdata\\local\\pip\\cache\\wheels\\4a\\23\\ab\\586db2b4846c6de75693dec052c3cfc77e3c920f6a9ba97342\n",
            "Successfully built python-crfsuite\n",
            "Installing collected packages: python-crfsuite, sklearn_crfsuite\n",
            "Successfully installed python-crfsuite-0.9.9 sklearn_crfsuite-0.3.6\n",
            "Note: you may need to restart the kernel to use updated packages.\n"
          ]
        }
      ],
      "source": [
        "pip install sklearn_crfsuite"
      ]
    },
    {
      "cell_type": "code",
      "execution_count": 2,
      "metadata": {
        "id": "evb0oLKpvhUQ"
      },
      "outputs": [],
      "source": [
        "# Library Import\n",
        "import pandas as pd\n",
        "import numpy as np\n",
        "import re\n",
        "import spacy\n",
        "from sklearn.metrics import classification_report\n",
        "from sklearn.preprocessing import MultiLabelBinarizer\n",
        "import matplotlib.pyplot as plt\n",
        "import seaborn as sns\n",
        "from sklearn.metrics import multilabel_confusion_matrix\n",
        "import warnings\n",
        "warnings.filterwarnings('ignore')\n",
        "\n",
        "# Import model and metrics\n",
        "from sklearn_crfsuite import CRF, scorers, metrics"
      ]
    },
    {
      "cell_type": "code",
      "execution_count": 3,
      "metadata": {
        "id": "0SS4dUolvtA_"
      },
      "outputs": [],
      "source": [
        "# Extract sentence from words\n",
        "def content_extract(file_path='',sep='\\t'):\n",
        "    '''It helps to extract the word based on the separator to form the sentence'''\n",
        "    try:\n",
        "        with open (file_path,'r',encoding='utf-8') as text:\n",
        "            if text.mode  == 'r':\n",
        "                content = text.readlines()\n",
        "        sentence = []\n",
        "        final_sentence=''\n",
        "        for c in content:\n",
        "            content_word = c.strip('\\n')\n",
        "            if content_word == '':\n",
        "                sentence.append(final_sentence.strip(' '))\n",
        "\n",
        "                #Initialize for next sentence\n",
        "                final_sentence=''\n",
        "            else:\n",
        "                # Till the loop identifies the separator it concatenates string\n",
        "                final_sentence+=content_word+' '\n",
        "        print('Total identified value: ',len(sentence),'\\n')\n",
        "        print('Sample display value:\\n',sentence[:5])\n",
        "        return sentence\n",
        "    except FileNotFoundError:\n",
        "        print('Check and provide proper file path')"
      ]
    },
    {
      "cell_type": "code",
      "execution_count": 4,
      "metadata": {
        "id": "kS9ZL8rKv-cl"
      },
      "outputs": [],
      "source": [
        "# A class to retrieve the sentences details from the dataframe\n",
        "class sentencedetail(object):\n",
        "    def __init__(self, data):\n",
        "        self.data = data\n",
        "        self.empty = False\n",
        "        agg_func = lambda s: [(w, p, l) for w, p, l in zip(s[\"word\"].values.tolist(), s[\"pos\"].values.tolist(),s[\"label\"].values.tolist())]\n",
        "        self.grouped = self.data.groupby(\"sentence\").apply(agg_func)\n",
        "        self.sentences = [s for s in self.grouped]"
      ]
    },
    {
      "cell_type": "code",
      "execution_count": 5,
      "metadata": {
        "id": "8A0o3pB9wKcY"
      },
      "outputs": [],
      "source": [
        "# Feature set\n",
        "def word2features(sent, i):\n",
        "    word = sent[i][0]\n",
        "    postag = sent[i][1]\n",
        "\n",
        "    features = {\n",
        "        'bias': 1.0,\n",
        "        'word.lower()': word.lower(),\n",
        "        'word[0]': word[0],\n",
        "        'word[-1]': word[-1],\n",
        "        'word[-2:]': word[-2:],\n",
        "        'word.isupper()': word.isupper(),\n",
        "        'word.istitle()': word.istitle(),\n",
        "        'word.isdigit()': word.isdigit(),\n",
        "        'postag':postag,\n",
        "        'postag_isnounpronoun': postag in ['NOUN','PROPN'],\n",
        "        'postag[:2]': postag[:2],\n",
        "    }\n",
        "    if i > 0:\n",
        "        word1 = sent[i-1][0]\n",
        "        postag1 = sent[i-1][1]\n",
        "        features.update({\n",
        "            '-1:word.lower()': word1.lower(),\n",
        "            '-1:word[0]': word1[0],\n",
        "            '-1:word[-1]': word1[-1],\n",
        "            '-1:word.istitle()': word1.istitle(),\n",
        "            '-1:word.isupper()': word1.isupper(),\n",
        "            '-1:postag': postag1,\n",
        "            '-1:postag[:2]': postag1[:2],\n",
        "            '-1:postag_isnounpronoun': postag1 in ['NOUN','PROPN']\n",
        "        })\n",
        "    else:\n",
        "        features['BOS'] = True\n",
        "\n",
        "    if i < len(sent)-1:\n",
        "        word1 = sent[i+1][0]\n",
        "        postag1 = sent[i+1][1]\n",
        "        features.update({\n",
        "            '+1:word.lower()': word1.lower(),\n",
        "            '+1:word.istitle()': word1.istitle(),\n",
        "            '+1:word.isupper()': word1.isupper(),\n",
        "            '+1:postag': postag1,\n",
        "            '+1:postag[:2]': postag1[:2],\n",
        "            '+1:postag_isnounpronoun': postag1 in ['NOUN','PROPN']\n",
        "        })\n",
        "    else:\n",
        "        features['EOS'] = True\n",
        "\n",
        "    return features"
      ]
    },
    {
      "cell_type": "code",
      "execution_count": 6,
      "metadata": {
        "id": "abFkeKNRwMtH"
      },
      "outputs": [],
      "source": [
        "# Define a function to extract features for a sentence.\n",
        "def sent2features(sent):\n",
        "    return [word2features(sent, i) for i in range(len(sent))]"
      ]
    },
    {
      "cell_type": "code",
      "execution_count": 7,
      "metadata": {
        "id": "kgcEV-fiwQRo"
      },
      "outputs": [],
      "source": [
        "# Define a function to get the labels for a sentence.\n",
        "def sent2labels(sent):\n",
        "    return [label for token, postag, label in sent]"
      ]
    },
    {
      "cell_type": "code",
      "execution_count": 8,
      "metadata": {
        "colab": {
          "base_uri": "https://localhost:8080/"
        },
        "id": "PsF0VkmuwSUE",
        "outputId": "39095bd5-0819-48a8-fa0a-cf678a3006cd"
      },
      "outputs": [
        {
          "name": "stdout",
          "output_type": "stream",
          "text": [
            "Total identified value:  2599 \n",
            "\n",
            "Sample display value:\n",
            " ['All live births > or = 23 weeks at the University of Vermont in 1995 ( n = 2395 ) were retrospectively analyzed for delivery route , indication for cesarean , gestational age , parity , and practice group ( to reflect risk status )', 'The total cesarean rate was 14.4 % ( 344 of 2395 ) , and the primary rate was 11.4 % ( 244 of 2144 )', 'Abnormal presentation was the most common indication ( 25.6 % , 88 of 344 )', \"The `` corrected '' cesarean rate ( maternal-fetal medicine and transported patients excluded ) was 12.4 % ( 273 of 2194 ) , and the `` corrected '' primary rate was 9.6 % ( 190 of 1975 )\", \"Arrest of dilation was the most common indication in both `` corrected '' subgroups ( 23.4 and 24.6 % , respectively )\"]\n"
          ]
        }
      ],
      "source": [
        "# Train sentence extraction from dataset\n",
        "train_sent = content_extract(file_path='C:\\\\Users\\\\Brinil john\\\\OneDrive\\\\Desktop\\\\NLP\\\\project\\\\NER System\\\\data_sentense')"
      ]
    },
    {
      "cell_type": "code",
      "execution_count": 9,
      "metadata": {
        "colab": {
          "base_uri": "https://localhost:8080/"
        },
        "id": "o7udJ_GrwlVf",
        "outputId": "e39f6fc4-c41f-42d5-9e0d-0732e675fb7c"
      },
      "outputs": [
        {
          "name": "stdout",
          "output_type": "stream",
          "text": [
            "Total identified value:  2599 \n",
            "\n",
            "Sample display value:\n",
            " ['O O O O O O O O O O O O O O O O O O O O O O O O O O O O O O O O O O O O O O O O O O O O O', 'O O O O O O O O O O O O O O O O O O O O O O O O O', 'O O O O O O O O O O O O O O O', 'O O O O O O O O O O O O O O O O O O O O O O O O O O O O O O O O O O O O O O', 'O O O O O O O O O O O O O O O O O O O O O O']\n"
          ]
        }
      ],
      "source": [
        "# Train label extraction from dataset\n",
        "train_label = content_extract(file_path='C:\\\\Users\\\\Brinil john\\\\OneDrive\\\\Desktop\\\\NLP\\\\project\\\\NER System\\\\data_label')"
      ]
    },
    {
      "cell_type": "code",
      "execution_count": 10,
      "metadata": {
        "colab": {
          "base_uri": "https://localhost:8080/"
        },
        "id": "ppgjcd8Yw4Gl",
        "outputId": "6b7e4491-01e9-4bf3-8035-da683830836c"
      },
      "outputs": [
        {
          "name": "stdout",
          "output_type": "stream",
          "text": [
            "Total identified value:  1056 \n",
            "\n",
            "Sample display value:\n",
            " ['Furthermore , when all deliveries were analyzed , regardless of risk status but limited to gestational age > or = 36 weeks , the rates did not change ( 12.6 % , 280 of 2214 ; primary 9.2 % , 183 of 1994 )', 'As the ambient temperature increases , there is an increase in insensible fluid loss and the potential for dehydration', 'The daily high temperature ranged from 71 to 104 degrees F and AFI values ranged from 1.7 to 24.7 cm during the study period', 'There was a significant correlation between the 2- , 3- , and 4-day mean temperature and AFI , with the 4-day mean being the most significant ( r = 0.31 , p & # 60 ; 0.001 )', 'Fluctuations in ambient temperature are inversely correlated to changes in AFI']\n"
          ]
        }
      ],
      "source": [
        "# Test sentence extraction from dataset\n",
        "test_sent = content_extract(file_path='C:\\\\Users\\\\Brinil john\\\\OneDrive\\\\Desktop\\\\NLP\\\\project\\\\NER System\\\\test_sent')"
      ]
    },
    {
      "cell_type": "code",
      "execution_count": 11,
      "metadata": {
        "colab": {
          "base_uri": "https://localhost:8080/"
        },
        "id": "6w2Xod0Ww9R9",
        "outputId": "2c5d6857-6ee6-4c15-f6c8-a248eb77f794"
      },
      "outputs": [
        {
          "name": "stdout",
          "output_type": "stream",
          "text": [
            "Total identified value:  1056 \n",
            "\n",
            "Sample display value:\n",
            " ['O O O O O O O O O O O O O O O O O O O O O O O O O O O O O O O O O O O O O O O O O O O O', 'O O O O O O O O O O O O O O O O O O O', 'O O O O O O O O O O O O O O O O O O O O O O O O', 'O O O O O O O O O O O O O O O O O O O O O O O O O O O O O O O O O O O O O O', 'O O O O O O O O O O O']\n"
          ]
        }
      ],
      "source": [
        "# Test label extraction from dataset\n",
        "test_label = content_extract(file_path='C:\\\\Users\\\\Brinil john\\\\OneDrive\\\\Desktop\\\\NLP\\\\project\\\\NER System\\\\test_label')"
      ]
    },
    {
      "cell_type": "code",
      "execution_count": 12,
      "metadata": {
        "id": "vj0R2qBnxPZt"
      },
      "outputs": [],
      "source": [
        "# Import spacy small library to find medical related entities\n",
        "nlp = spacy.load('en_core_web_sm')"
      ]
    },
    {
      "cell_type": "code",
      "execution_count": 13,
      "metadata": {
        "id": "K-v7rgeUxTFF"
      },
      "outputs": [],
      "source": [
        "# Dataframe of POS tagging,Lemma word and Label for Train and test sentence\n",
        "train_df = pd.DataFrame(columns=['sentence','word','lemma','pos','label'])\n",
        "test_df = pd.DataFrame(columns=['sentence','word','lemma','pos','label'])"
      ]
    },
    {
      "cell_type": "code",
      "execution_count": 14,
      "metadata": {
        "colab": {
          "base_uri": "https://localhost:8080/"
        },
        "id": "Cv3SlTyBxXML",
        "outputId": "c271f19d-74f3-47f9-9848-2c2c0bda9d22"
      },
      "outputs": [
        {
          "name": "stderr",
          "output_type": "stream",
          "text": [
            "Processing Sentences: 100%|██████████| 2599/2599 [08:06<00:00,  5.34it/s]  \n"
          ]
        }
      ],
      "source": [
        "from tqdm import tqdm\n",
        "\n",
        "i = 0  # Sentence count\n",
        "j = 0  # Iteration count\n",
        "\n",
        "for sent, label in tqdm(zip(train_sent, train_label), total=len(train_sent), desc=\"Processing Sentences\"):\n",
        "    i += 1\n",
        "    for s, l in zip(sent.split(), label.split()):\n",
        "        doc = nlp(s)\n",
        "        for tok in doc:\n",
        "            train_df.loc[j, ['sentence', 'word', 'lemma', 'pos', 'label']] = [i, tok.text, tok.lemma_, tok.pos_, l]\n",
        "            j += 1\n"
      ]
    },
    {
      "cell_type": "code",
      "execution_count": 15,
      "metadata": {
        "colab": {
          "base_uri": "https://localhost:8080/"
        },
        "id": "G4YAZNCZxZe9",
        "outputId": "60e049c7-013d-4c91-ff48-3e5c64782839"
      },
      "outputs": [
        {
          "name": "stderr",
          "output_type": "stream",
          "text": [
            "Processing Test Sentences: 100%|██████████| 1056/1056 [02:25<00:00,  7.26it/s]\n"
          ]
        }
      ],
      "source": [
        "from tqdm import tqdm\n",
        "\n",
        "i = 0  # Sentence count\n",
        "j = 0  # Iteration count\n",
        "\n",
        "for sent, label in tqdm(zip(test_sent, test_label), total=len(test_sent), desc=\"Processing Test Sentences\"):\n",
        "    i += 1\n",
        "    for s, l in zip(sent.split(), label.split()):\n",
        "        doc = nlp(s)\n",
        "        for tok in doc:\n",
        "            test_df.loc[j, ['sentence', 'word', 'lemma', 'pos', 'label']] = [i, tok.text, tok.lemma_, tok.pos_, l]\n",
        "            j += 1\n"
      ]
    },
    {
      "cell_type": "code",
      "execution_count": 16,
      "metadata": {
        "id": "MFCcxfs-yVdm"
      },
      "outputs": [],
      "source": [
        "# Word and it's frequency for word which contains NOUN or PROPN as POS tagging\n",
        "freq_df = pd.DataFrame()\n",
        "freq_df = pd.concat((train_df,test_df),axis=0)"
      ]
    },
    {
      "cell_type": "code",
      "execution_count": 17,
      "metadata": {
        "id": "s_c7d5pv7h3A"
      },
      "outputs": [],
      "source": [
        "# Resetting index\n",
        "freq_df.reset_index(inplace=True,drop=True)"
      ]
    },
    {
      "cell_type": "code",
      "execution_count": 18,
      "metadata": {
        "colab": {
          "base_uri": "https://localhost:8080/"
        },
        "id": "eW7dGex17kjc",
        "outputId": "cbba5980-dd46-4eef-92ed-474e0be2a96e"
      },
      "outputs": [
        {
          "data": {
            "text/plain": [
              "patients        492\n",
              "treatment       281\n",
              "cancer          200\n",
              "therapy         175\n",
              "disease         143\n",
              "cell            140\n",
              "lung            116\n",
              "group            94\n",
              "gene             88\n",
              "chemotherapy     88\n",
              "effects          85\n",
              "results          79\n",
              "women            77\n",
              "patient          75\n",
              "TO_SEE           75\n",
              "surgery          71\n",
              "risk             71\n",
              "cases            71\n",
              "analysis         70\n",
              "human            67\n",
              "rate             67\n",
              "response         66\n",
              "survival         65\n",
              "children         64\n",
              "effect           64\n",
              "Name: word, dtype: int64"
            ]
          },
          "execution_count": 18,
          "metadata": {},
          "output_type": "execute_result"
        }
      ],
      "source": [
        "# Top 25 most frequency values for Train and Test related dataset words\n",
        "freq_df[(freq_df['pos'] == 'NOUN') | ((freq_df['pos'] == 'PROPN'))]['word'].value_counts()[:25]"
      ]
    },
    {
      "cell_type": "code",
      "execution_count": 19,
      "metadata": {
        "colab": {
          "base_uri": "https://localhost:8080/",
          "height": 632
        },
        "id": "RGdM6gBmVksm",
        "outputId": "98e8ae78-2ff5-49b3-e1de-93f430ac0b34"
      },
      "outputs": [
        {
          "data": {
            "image/png": "[encoded data removed]",
            "text/plain": [
              "<Figure size 1200x600 with 1 Axes>"
            ]
          },
          "metadata": {},
          "output_type": "display_data"
        }
      ],
      "source": [
        "import matplotlib.pyplot as plt\n",
        "\n",
        "# Assuming freq_df is a DataFrame with 'word' and 'pos' columns\n",
        "# Filter for NOUN and PROPN words and get their value counts\n",
        "top_words = freq_df[(freq_df['pos'] == 'NOUN') | (freq_df['pos'] == 'PROPN')]['word'].value_counts()[:25]\n",
        "\n",
        "# Create the bar chart\n",
        "plt.figure(figsize=(12, 6))\n",
        "top_words.plot(kind='bar')\n",
        "plt.title('Top 25 Most Frequent NOUN and PROPN Words')\n",
        "plt.xlabel('Words')\n",
        "plt.ylabel('Frequency')\n",
        "plt.xticks(rotation=45)  # Rotate x-axis labels for better readability\n",
        "\n",
        "plt.show()"
      ]
    },
    {
      "cell_type": "code",
      "execution_count": 23,
      "metadata": {
        "colab": {
          "base_uri": "https://localhost:8080/"
        },
        "id": "usP_WjeA7n29",
        "outputId": "4537b355-bb63-4c78-9b3d-9b569ca260b2"
      },
      "outputs": [
        {
          "data": {
            "text/plain": [
              "patient         587\n",
              "treatment       316\n",
              "cancer          226\n",
              "cell            203\n",
              "therapy         182\n",
              "disease         172\n",
              "effect          163\n",
              "case            132\n",
              "group           128\n",
              "lung            120\n",
              "result          118\n",
              "gene            112\n",
              "year            105\n",
              "rate            102\n",
              "trial            91\n",
              "chemotherapy     91\n",
              "woman            89\n",
              "analysis         86\n",
              "protein          82\n",
              "response         81\n",
              "risk             78\n",
              "child            78\n",
              "human            77\n",
              "TO_SEE           75\n",
              "mutation         75\n",
              "Name: lemma, dtype: int64"
            ]
          },
          "execution_count": 23,
          "metadata": {},
          "output_type": "execute_result"
        }
      ],
      "source": [
        "# Top 25 most frequency values for Train and Test related lemma words\n",
        "freq_df[(freq_df['pos'] == 'NOUN') | ((freq_df['pos'] == 'PROPN'))]['lemma'].value_counts()[:25]"
      ]
    },
    {
      "cell_type": "code",
      "execution_count": 24,
      "metadata": {
        "colab": {
          "base_uri": "https://localhost:8080/",
          "height": 632
        },
        "id": "RAAT2XbjV8xm",
        "outputId": "0c7b6327-b23b-4fcf-8d19-94235b844fb5"
      },
      "outputs": [
        {
          "data": {
            "image/png": "[encoded data removed]",
            "text/plain": [
              "<Figure size 1200x600 with 1 Axes>"
            ]
          },
          "metadata": {},
          "output_type": "display_data"
        }
      ],
      "source": [
        "import matplotlib.pyplot as plt\n",
        "\n",
        "# Assuming freq_df is a DataFrame with 'lemma' and 'pos' columns\n",
        "# Filter for NOUN and PROPN lemmas and get their value counts\n",
        "top_lemmas = freq_df[(freq_df['pos'] == 'NOUN') | (freq_df['pos'] == 'PROPN')]['lemma'].value_counts()[:25]\n",
        "\n",
        "# Create the bar chart\n",
        "plt.figure(figsize=(12, 6))\n",
        "top_lemmas.plot(kind='bar')\n",
        "plt.title('Top 25 Most Frequent NOUN and PROPN Lemmas')\n",
        "plt.xlabel('Lemmas')\n",
        "plt.ylabel('Frequency')\n",
        "plt.xticks(rotation=45)  # Rotate x-axis labels for better readability\n",
        "\n",
        "plt.show()\n"
      ]
    },
    {
      "cell_type": "code",
      "execution_count": 20,
      "metadata": {
        "colab": {
          "base_uri": "https://localhost:8080/",
          "height": 596
        },
        "id": "qaJ1hs0Z7uDM",
        "outputId": "727ae7b6-e462-46c5-b289-e6ff26e8e7a3"
      },
      "outputs": [
        {
          "data": {
            "text/html": [
              "<div>\n",
              "<style scoped>\n",
              "    .dataframe tbody tr th:only-of-type {\n",
              "        vertical-align: middle;\n",
              "    }\n",
              "\n",
              "    .dataframe tbody tr th {\n",
              "        vertical-align: top;\n",
              "    }\n",
              "\n",
              "    .dataframe thead th {\n",
              "        text-align: right;\n",
              "    }\n",
              "</style>\n",
              "<table border=\"1\" class=\"dataframe\">\n",
              "  <thead>\n",
              "    <tr style=\"text-align: right;\">\n",
              "      <th></th>\n",
              "      <th>sentence</th>\n",
              "      <th>word</th>\n",
              "      <th>lemma</th>\n",
              "      <th>pos</th>\n",
              "      <th>label</th>\n",
              "    </tr>\n",
              "  </thead>\n",
              "  <tbody>\n",
              "    <tr>\n",
              "      <th>0</th>\n",
              "      <td>1</td>\n",
              "      <td>All</td>\n",
              "      <td>all</td>\n",
              "      <td>PRON</td>\n",
              "      <td>O</td>\n",
              "    </tr>\n",
              "    <tr>\n",
              "      <th>1</th>\n",
              "      <td>1</td>\n",
              "      <td>live</td>\n",
              "      <td>live</td>\n",
              "      <td>VERB</td>\n",
              "      <td>O</td>\n",
              "    </tr>\n",
              "    <tr>\n",
              "      <th>2</th>\n",
              "      <td>1</td>\n",
              "      <td>births</td>\n",
              "      <td>birth</td>\n",
              "      <td>NOUN</td>\n",
              "      <td>O</td>\n",
              "    </tr>\n",
              "    <tr>\n",
              "      <th>3</th>\n",
              "      <td>1</td>\n",
              "      <td>&gt;</td>\n",
              "      <td>&gt;</td>\n",
              "      <td>PUNCT</td>\n",
              "      <td>O</td>\n",
              "    </tr>\n",
              "    <tr>\n",
              "      <th>4</th>\n",
              "      <td>1</td>\n",
              "      <td>or</td>\n",
              "      <td>or</td>\n",
              "      <td>CCONJ</td>\n",
              "      <td>O</td>\n",
              "    </tr>\n",
              "  </tbody>\n",
              "</table>\n",
              "</div>"
            ],
            "text/plain": [
              "  sentence    word  lemma    pos label\n",
              "0        1     All    all   PRON     O\n",
              "1        1    live   live   VERB     O\n",
              "2        1  births  birth   NOUN     O\n",
              "3        1       >      >  PUNCT     O\n",
              "4        1      or     or  CCONJ     O"
            ]
          },
          "execution_count": 20,
          "metadata": {},
          "output_type": "execute_result"
        }
      ],
      "source": [
        "train_df.head(5)"
      ]
    },
    {
      "cell_type": "code",
      "execution_count": 21,
      "metadata": {
        "colab": {
          "base_uri": "https://localhost:8080/",
          "height": 594
        },
        "id": "LnOtzFky7wi-",
        "outputId": "d486e77e-2198-411b-eb6b-a905ec276a1f"
      },
      "outputs": [
        {
          "data": {
            "text/html": [
              "<div>\n",
              "<style scoped>\n",
              "    .dataframe tbody tr th:only-of-type {\n",
              "        vertical-align: middle;\n",
              "    }\n",
              "\n",
              "    .dataframe tbody tr th {\n",
              "        vertical-align: top;\n",
              "    }\n",
              "\n",
              "    .dataframe thead th {\n",
              "        text-align: right;\n",
              "    }\n",
              "</style>\n",
              "<table border=\"1\" class=\"dataframe\">\n",
              "  <thead>\n",
              "    <tr style=\"text-align: right;\">\n",
              "      <th></th>\n",
              "      <th>sentence</th>\n",
              "      <th>word</th>\n",
              "      <th>lemma</th>\n",
              "      <th>pos</th>\n",
              "      <th>label</th>\n",
              "    </tr>\n",
              "  </thead>\n",
              "  <tbody>\n",
              "    <tr>\n",
              "      <th>0</th>\n",
              "      <td>1</td>\n",
              "      <td>Furthermore</td>\n",
              "      <td>furthermore</td>\n",
              "      <td>ADV</td>\n",
              "      <td>O</td>\n",
              "    </tr>\n",
              "    <tr>\n",
              "      <th>1</th>\n",
              "      <td>1</td>\n",
              "      <td>,</td>\n",
              "      <td>,</td>\n",
              "      <td>PUNCT</td>\n",
              "      <td>O</td>\n",
              "    </tr>\n",
              "    <tr>\n",
              "      <th>2</th>\n",
              "      <td>1</td>\n",
              "      <td>when</td>\n",
              "      <td>when</td>\n",
              "      <td>SCONJ</td>\n",
              "      <td>O</td>\n",
              "    </tr>\n",
              "    <tr>\n",
              "      <th>3</th>\n",
              "      <td>1</td>\n",
              "      <td>all</td>\n",
              "      <td>all</td>\n",
              "      <td>PRON</td>\n",
              "      <td>O</td>\n",
              "    </tr>\n",
              "    <tr>\n",
              "      <th>4</th>\n",
              "      <td>1</td>\n",
              "      <td>deliveries</td>\n",
              "      <td>delivery</td>\n",
              "      <td>NOUN</td>\n",
              "      <td>O</td>\n",
              "    </tr>\n",
              "  </tbody>\n",
              "</table>\n",
              "</div>"
            ],
            "text/plain": [
              "  sentence         word        lemma    pos label\n",
              "0        1  Furthermore  furthermore    ADV     O\n",
              "1        1            ,            ,  PUNCT     O\n",
              "2        1         when         when  SCONJ     O\n",
              "3        1          all          all   PRON     O\n",
              "4        1   deliveries     delivery   NOUN     O"
            ]
          },
          "execution_count": 21,
          "metadata": {},
          "output_type": "execute_result"
        }
      ],
      "source": [
        "test_df.head(5)"
      ]
    },
    {
      "cell_type": "code",
      "execution_count": 22,
      "metadata": {
        "id": "5dfqsnuj71tF"
      },
      "outputs": [],
      "source": [
        "# Fetch detail view of sentence for train set\n",
        "train_sent_obj = sentencedetail(train_df)\n",
        "train_sent_detail = train_sent_obj.sentences"
      ]
    },
    {
      "cell_type": "code",
      "execution_count": 23,
      "metadata": {
        "colab": {
          "base_uri": "https://localhost:8080/"
        },
        "id": "fXEqR3v775PL",
        "outputId": "00f8cfaa-f46b-451e-cad3-04bad0acf43f"
      },
      "outputs": [
        {
          "data": {
            "text/plain": [
              "[('All', 'PRON', 'O'),\n",
              " ('live', 'VERB', 'O'),\n",
              " ('births', 'NOUN', 'O'),\n",
              " ('>', 'PUNCT', 'O'),\n",
              " ('or', 'CCONJ', 'O'),\n",
              " ('=', 'VERB', 'O'),\n",
              " ('23', 'NUM', 'O'),\n",
              " ('weeks', 'NOUN', 'O'),\n",
              " ('at', 'ADP', 'O'),\n",
              " ('the', 'PRON', 'O'),\n",
              " ('University', 'NOUN', 'O'),\n",
              " ('of', 'ADP', 'O'),\n",
              " ('Vermont', 'PROPN', 'O'),\n",
              " ('in', 'ADP', 'O'),\n",
              " ('1995', 'NUM', 'O'),\n",
              " ('(', 'PUNCT', 'O'),\n",
              " ('n', 'CCONJ', 'O'),\n",
              " ('=', 'VERB', 'O'),\n",
              " ('2395', 'NUM', 'O'),\n",
              " (')', 'PUNCT', 'O'),\n",
              " ('were', 'AUX', 'O'),\n",
              " ('retrospectively', 'ADV', 'O'),\n",
              " ('analyzed', 'VERB', 'O'),\n",
              " ('for', 'ADP', 'O'),\n",
              " ('delivery', 'NOUN', 'O'),\n",
              " ('route', 'NOUN', 'O'),\n",
              " (',', 'PUNCT', 'O'),\n",
              " ('indication', 'NOUN', 'O'),\n",
              " ('for', 'ADP', 'O'),\n",
              " ('cesarean', 'VERB', 'O'),\n",
              " (',', 'PUNCT', 'O'),\n",
              " ('gestational', 'ADJ', 'O'),\n",
              " ('age', 'NOUN', 'O'),\n",
              " (',', 'PUNCT', 'O'),\n",
              " ('parity', 'NOUN', 'O'),\n",
              " (',', 'PUNCT', 'O'),\n",
              " ('and', 'CCONJ', 'O'),\n",
              " ('practice', 'VERB', 'O'),\n",
              " ('group', 'NOUN', 'O'),\n",
              " ('(', 'PUNCT', 'O'),\n",
              " ('to', 'PART', 'O'),\n",
              " ('reflect', 'VERB', 'O'),\n",
              " ('risk', 'NOUN', 'O'),\n",
              " ('status', 'NOUN', 'O'),\n",
              " (')', 'PUNCT', 'O')]"
            ]
          },
          "execution_count": 23,
          "metadata": {},
          "output_type": "execute_result"
        }
      ],
      "source": [
        "# Display one sentence detail view for train set\n",
        "train_sent_detail[0]"
      ]
    },
    {
      "cell_type": "code",
      "execution_count": 24,
      "metadata": {
        "id": "lofi8Vqe77Fu"
      },
      "outputs": [],
      "source": [
        "# Fetch detail view of sentence for train set\n",
        "test_sent_obj = sentencedetail(test_df)\n",
        "test_sent_detail = test_sent_obj.sentences"
      ]
    },
    {
      "cell_type": "code",
      "execution_count": 25,
      "metadata": {
        "colab": {
          "base_uri": "https://localhost:8080/"
        },
        "id": "WTpZRA1Q79SB",
        "outputId": "ca1c6efe-b4b3-4ac2-a342-959bed8c40ca"
      },
      "outputs": [
        {
          "data": {
            "text/plain": [
              "[('Furthermore', 'ADV', 'O'),\n",
              " (',', 'PUNCT', 'O'),\n",
              " ('when', 'SCONJ', 'O'),\n",
              " ('all', 'PRON', 'O'),\n",
              " ('deliveries', 'NOUN', 'O'),\n",
              " ('were', 'AUX', 'O'),\n",
              " ('analyzed', 'VERB', 'O'),\n",
              " (',', 'PUNCT', 'O'),\n",
              " ('regardless', 'ADV', 'O'),\n",
              " ('of', 'ADP', 'O'),\n",
              " ('risk', 'NOUN', 'O'),\n",
              " ('status', 'NOUN', 'O'),\n",
              " ('but', 'CCONJ', 'O'),\n",
              " ('limited', 'VERB', 'O'),\n",
              " ('to', 'PART', 'O'),\n",
              " ('gestational', 'ADJ', 'O'),\n",
              " ('age', 'NOUN', 'O'),\n",
              " ('>', 'PUNCT', 'O'),\n",
              " ('or', 'CCONJ', 'O'),\n",
              " ('=', 'VERB', 'O'),\n",
              " ('36', 'NUM', 'O'),\n",
              " ('weeks', 'NOUN', 'O'),\n",
              " (',', 'PUNCT', 'O'),\n",
              " ('the', 'PRON', 'O'),\n",
              " ('rates', 'NOUN', 'O'),\n",
              " ('did', 'VERB', 'O'),\n",
              " ('not', 'PART', 'O'),\n",
              " ('change', 'VERB', 'O'),\n",
              " ('(', 'PUNCT', 'O'),\n",
              " ('12.6', 'NUM', 'O'),\n",
              " ('%', 'INTJ', 'O'),\n",
              " (',', 'PUNCT', 'O'),\n",
              " ('280', 'NUM', 'O'),\n",
              " ('of', 'ADP', 'O'),\n",
              " ('2214', 'NUM', 'O'),\n",
              " (';', 'PUNCT', 'O'),\n",
              " ('primary', 'NOUN', 'O'),\n",
              " ('9.2', 'NUM', 'O'),\n",
              " ('%', 'INTJ', 'O'),\n",
              " (',', 'PUNCT', 'O'),\n",
              " ('183', 'NUM', 'O'),\n",
              " ('of', 'ADP', 'O'),\n",
              " ('1994', 'NUM', 'O'),\n",
              " (')', 'PUNCT', 'O')]"
            ]
          },
          "execution_count": 25,
          "metadata": {},
          "output_type": "execute_result"
        }
      ],
      "source": [
        "# Display one sentence detail view for train set\n",
        "test_sent_detail[0]\n"
      ]
    },
    {
      "cell_type": "code",
      "execution_count": 26,
      "metadata": {
        "id": "oM1P6ZyJ7_8B"
      },
      "outputs": [],
      "source": [
        "# Prepare X-train and X-test by extracting features from train and test dataset\n",
        "X_train = [sent2features(s) for s in train_sent_detail]\n",
        "X_test = [sent2features(s) for s in test_sent_detail]"
      ]
    },
    {
      "cell_type": "code",
      "execution_count": 27,
      "metadata": {
        "id": "DAuXdk0S8Ce8"
      },
      "outputs": [],
      "source": [
        "# Prepare y-train and y-test by extracting labels from train and test dataset\n",
        "y_train = [sent2labels(l) for l in train_sent_detail]\n",
        "y_test = [sent2labels(l) for l in test_sent_detail]"
      ]
    },
    {
      "cell_type": "code",
      "execution_count": 28,
      "metadata": {
        "id": "BrvBai-I8EUi"
      },
      "outputs": [],
      "source": [
        "# Build the CRF model.\n",
        "crf = CRF(max_iterations=100, c1=1.0, c2=0.01, all_possible_transitions=False)\n",
        "\n",
        "try:\n",
        "    crf.fit(X_train, y_train)\n",
        "except AttributeError:\n",
        "    pass\n",
        "predictions = crf.predict(X_test)"
      ]
    },
    {
      "cell_type": "code",
      "execution_count": 29,
      "metadata": {
        "colab": {
          "base_uri": "https://localhost:8080/"
        },
        "id": "u68lkJkJ8GW4",
        "outputId": "66a5ac47-909e-4995-d4ee-1fe4453a7fe2"
      },
      "outputs": [
        {
          "name": "stdout",
          "output_type": "stream",
          "text": [
            "Predicted F1-score for Medical Entity Dataset is: 91.47 % \n"
          ]
        }
      ],
      "source": [
        "# Calculate the f1 score using the test data\n",
        "y_pred = crf.predict(X_test)\n",
        "f1_score = metrics.flat_f1_score(y_test, y_pred, average='weighted')\n",
        "print('Predicted F1-score for Medical Entity Dataset is: {0} % '.format(round(f1_score*100,2)))"
      ]
    },
    {
      "cell_type": "markdown",
      "metadata": {
        "id": "kmU6xj4_KfjE"
      },
      "source": [
        "**1. Confusion matrix - Shows accuracy of each predicted entity class**"
      ]
    },
    {
      "cell_type": "code",
      "execution_count": 30,
      "metadata": {
        "colab": {
          "base_uri": "https://localhost:8080/",
          "height": 1000
        },
        "id": "DsFEiLHfGbxs",
        "outputId": "ed17d729-22f7-4730-d672-8ef2588c894f"
      },
      "outputs": [
        {
          "data": {
            "image/png": "[encoded data removed]",
            "text/plain": [
              "<Figure size 640x480 with 2 Axes>"
            ]
          },
          "metadata": {},
          "output_type": "display_data"
        },
        {
          "data": {
            "image/png": "[encoded data removed]",
            "text/plain": [
              "<Figure size 640x480 with 2 Axes>"
            ]
          },
          "metadata": {},
          "output_type": "display_data"
        },
        {
          "data": {
            "image/png": "[encoded data removed]",
            "text/plain": [
              "<Figure size 640x480 with 2 Axes>"
            ]
          },
          "metadata": {},
          "output_type": "display_data"
        }
      ],
      "source": [
        "# Create a MultiLabelBinarizer instance\n",
        "mlb = MultiLabelBinarizer()\n",
        "\n",
        "# Fit and transform your multi-label data\n",
        "y_test_binary = mlb.fit_transform(y_test)\n",
        "y_pred_binary = mlb.transform(y_pred)\n",
        "\n",
        "# Calculate the multilabel confusion matrix\n",
        "mcm = multilabel_confusion_matrix(y_test_binary, y_pred_binary)\n",
        "\n",
        "# Visualize the confusion matrices for each label\n",
        "for i in range(len(mlb.classes_)):\n",
        "    label = mlb.classes_[i]\n",
        "    plt.figure()\n",
        "    sns.heatmap(mcm[i], annot=True, fmt='d')\n",
        "    plt.title(f\"Confusion Matrix for Label '{label}'\")\n",
        "    plt.xlabel(\"Predicted Label\")\n",
        "    plt.ylabel(\"True Label\")\n",
        "\n",
        "plt.show()"
      ]
    },
    {
      "cell_type": "markdown",
      "metadata": {
        "id": "TSZ__jBHKs08"
      },
      "source": [
        "**2. Classification report - for F1-score per class.**"
      ]
    },
    {
      "cell_type": "code",
      "execution_count": 31,
      "metadata": {
        "colab": {
          "base_uri": "https://localhost:8080/",
          "height": 552
        },
        "id": "e401XdGPH47v",
        "outputId": "af07fea7-aade-404c-ba4a-4b4a463fc00e"
      },
      "outputs": [
        {
          "data": {
            "image/png": "[encoded data removed]",
            "text/plain": [
              "<Figure size 640x480 with 1 Axes>"
            ]
          },
          "metadata": {},
          "output_type": "display_data"
        }
      ],
      "source": [
        "# Create a MultiLabelBinarizer instance\n",
        "mlb = MultiLabelBinarizer()\n",
        "\n",
        "# Fit and transform your multi-label data\n",
        "y_test_binary = mlb.fit_transform(y_test)\n",
        "y_pred_binary = mlb.transform(y_pred)\n",
        "\n",
        "# Generate the classification report using y_test_binary and y_pred_binary\n",
        "report = classification_report(y_test_binary, y_pred_binary, output_dict=True)\n",
        "\n",
        "# Extract the F1 scores from the classification report\n",
        "f1_scores = {label: report[label]['f1-score'] for label in report if label != 'accuracy'}\n",
        "\n",
        "# Create a DataFrame from the F1 scores\n",
        "df = pd.DataFrame(f1_scores, index=['F1-Score']).transpose()\n",
        "\n",
        "# Plot the F1 scores as a bar chart\n",
        "ax = df.plot(kind='bar')\n",
        "ax.set_title(\"Classification-report\")\n",
        "ax.set_xlabel(\"Labels\")\n",
        "ax.set_ylabel(\"F1-Score\")\n",
        "\n",
        "plt.show()\n"
      ]
    },
    {
      "cell_type": "markdown",
      "metadata": {
        "id": "Ss_h2SFgK6jP"
      },
      "source": [
        "**3. Entity frequencies - Compare true vs predicted counts**"
      ]
    },
    {
      "cell_type": "code",
      "execution_count": 32,
      "metadata": {
        "colab": {
          "base_uri": "https://localhost:8080/",
          "height": 452
        },
        "id": "0vqfI8SNJFrK",
        "outputId": "fdd79972-83be-4b58-f08d-fc53c25d344e"
      },
      "outputs": [
        {
          "data": {
            "image/png": "[encoded data removed]",
            "text/plain": [
              "<Figure size 640x480 with 1 Axes>"
            ]
          },
          "metadata": {},
          "output_type": "display_data"
        }
      ],
      "source": [
        "# Sample data for demonstration (replace with your actual data)\n",
        "entities = ['PER', 'LOC', 'ORG']\n",
        "true_counts = [10, 15, 8]  # Replace with your actual true counts\n",
        "pred_counts = [12, 17, 9]  # Replace with your actual predicted counts\n",
        "\n",
        "x = np.arange(len(entities))\n",
        "plt.bar(x - 0.2, true_counts, 0.4, label='True')\n",
        "plt.bar(x + 0.2, pred_counts, 0.4, label='Predicted')\n",
        "plt.xticks(x, entities)\n",
        "plt.title(\"Entity Frequencies\")\n",
        "plt.legend()\n",
        "plt.show()\n"
      ]
    },
    {
      "cell_type": "code",
      "execution_count": 33,
      "metadata": {
        "id": "3a7uM7Ah_OfI"
      },
      "outputs": [],
      "source": [
        "# Taken out predicted label from the model\n",
        "pred_label=[]\n",
        "for i in y_pred:\n",
        "    pred_label.extend(i)"
      ]
    },
    {
      "cell_type": "code",
      "execution_count": 34,
      "metadata": {
        "id": "mlufe4IG_SXu"
      },
      "outputs": [],
      "source": [
        "# Loaded into test dataframe\n",
        "test_df['label_predicted'] = pred_label"
      ]
    },
    {
      "cell_type": "code",
      "execution_count": 35,
      "metadata": {
        "colab": {
          "base_uri": "https://localhost:8080/",
          "height": 594
        },
        "id": "hoqLcUZG_Wzk",
        "outputId": "ad1985fa-e28e-4ac0-b540-499f87583493"
      },
      "outputs": [
        {
          "data": {
            "text/html": [
              "<div>\n",
              "<style scoped>\n",
              "    .dataframe tbody tr th:only-of-type {\n",
              "        vertical-align: middle;\n",
              "    }\n",
              "\n",
              "    .dataframe tbody tr th {\n",
              "        vertical-align: top;\n",
              "    }\n",
              "\n",
              "    .dataframe thead th {\n",
              "        text-align: right;\n",
              "    }\n",
              "</style>\n",
              "<table border=\"1\" class=\"dataframe\">\n",
              "  <thead>\n",
              "    <tr style=\"text-align: right;\">\n",
              "      <th></th>\n",
              "      <th>sentence</th>\n",
              "      <th>word</th>\n",
              "      <th>lemma</th>\n",
              "      <th>pos</th>\n",
              "      <th>label</th>\n",
              "      <th>label_predicted</th>\n",
              "    </tr>\n",
              "  </thead>\n",
              "  <tbody>\n",
              "    <tr>\n",
              "      <th>0</th>\n",
              "      <td>1</td>\n",
              "      <td>Furthermore</td>\n",
              "      <td>furthermore</td>\n",
              "      <td>ADV</td>\n",
              "      <td>O</td>\n",
              "      <td>O</td>\n",
              "    </tr>\n",
              "    <tr>\n",
              "      <th>1</th>\n",
              "      <td>1</td>\n",
              "      <td>,</td>\n",
              "      <td>,</td>\n",
              "      <td>PUNCT</td>\n",
              "      <td>O</td>\n",
              "      <td>O</td>\n",
              "    </tr>\n",
              "    <tr>\n",
              "      <th>2</th>\n",
              "      <td>1</td>\n",
              "      <td>when</td>\n",
              "      <td>when</td>\n",
              "      <td>SCONJ</td>\n",
              "      <td>O</td>\n",
              "      <td>O</td>\n",
              "    </tr>\n",
              "    <tr>\n",
              "      <th>3</th>\n",
              "      <td>1</td>\n",
              "      <td>all</td>\n",
              "      <td>all</td>\n",
              "      <td>PRON</td>\n",
              "      <td>O</td>\n",
              "      <td>O</td>\n",
              "    </tr>\n",
              "    <tr>\n",
              "      <th>4</th>\n",
              "      <td>1</td>\n",
              "      <td>deliveries</td>\n",
              "      <td>delivery</td>\n",
              "      <td>NOUN</td>\n",
              "      <td>O</td>\n",
              "      <td>O</td>\n",
              "    </tr>\n",
              "  </tbody>\n",
              "</table>\n",
              "</div>"
            ],
            "text/plain": [
              "  sentence         word        lemma    pos label label_predicted\n",
              "0        1  Furthermore  furthermore    ADV     O               O\n",
              "1        1            ,            ,  PUNCT     O               O\n",
              "2        1         when         when  SCONJ     O               O\n",
              "3        1          all          all   PRON     O               O\n",
              "4        1   deliveries     delivery   NOUN     O               O"
            ]
          },
          "execution_count": 35,
          "metadata": {},
          "output_type": "execute_result"
        }
      ],
      "source": [
        "# Visualise top 5 data\n",
        "test_df.head(5)"
      ]
    },
    {
      "cell_type": "code",
      "execution_count": 36,
      "metadata": {
        "id": "WPvfZ45v_ZDb"
      },
      "outputs": [],
      "source": [
        "# Preparing dictionary by keeping Disease as unique Key element and Treatment as value element\n",
        "new_df =test_df[(test_df['label_predicted'] != 'O')]\n",
        "new_df.set_index('sentence',inplace=True)\n",
        "disease=[]\n",
        "treatment=[]\n",
        "sentence=[]\n",
        "med_dict = {}\n",
        "for i in new_df.index.unique():\n",
        "    try:\n",
        "        val = new_df.loc[i,'label_predicted'].unique()\n",
        "        if len(val) == 2:\n",
        "            disease_val = new_df[new_df['label_predicted'] == 'D'].loc[i,'word']\n",
        "            treatment_val = new_df[new_df['label_predicted'] == 'T'].loc[i,'word']\n",
        "            disease_single = disease_val if type(disease_val) == str else \" \".join(disease_val)\n",
        "            treatment_single = treatment_val if type(treatment_val) == str else \" \".join(treatment_val)\n",
        "            if disease_single not in disease:\n",
        "                med_dict[disease_single] = treatment_single\n",
        "            else:\n",
        "                print('Entered')\n",
        "                med_dict[disease_single] = med_dict.get(disease_single)+'/'+treatment_single\n",
        "    except AttributeError:\n",
        "        pass"
      ]
    },
    {
      "cell_type": "code",
      "execution_count": 37,
      "metadata": {
        "id": "-xdlCc3-_fGj"
      },
      "outputs": [],
      "source": [
        "import pprint as pp"
      ]
    },
    {
      "cell_type": "code",
      "execution_count": 38,
      "metadata": {
        "colab": {
          "base_uri": "https://localhost:8080/"
        },
        "id": "_bccBte5_hfg",
        "outputId": "198b4b87-3b2f-47eb-b6ac-10a457719524"
      },
      "outputs": [
        {
          "name": "stdout",
          "output_type": "stream",
          "text": [
            "{   \"'s disease\": 'Ovine Johne',\n",
            "    'AOM': 'Amoxicillin remains the antibiotic of choice',\n",
            "    'Alopecia': 'tacrolimus therapy',\n",
            "    'B16 melanoma': 'adenosine triphosphate and treatment with buthionine '\n",
            "                    'sulfoximine',\n",
            "    \"Eisenmenger 's syndrome\": 'laparoscopic cholecystectomy',\n",
            "    \"Parkinson 's disease\": 'Microelectrode - guided posteroventral '\n",
            "                            'pallidotomy',\n",
            "    'acoustic neuroma': 'Stereotactic radiosurgery',\n",
            "    'acute cerebral ischemia': 'Antiplatelet therapy',\n",
            "    'acute myocardial infarction': 'thrombolytic treatment',\n",
            "    'acute nasopharyngitis': 'antibiotic treatment',\n",
            "    'advanced non -- small - cell lung cancer': 'paclitaxel plus carboplatin ( '\n",
            "                                                'pc ) vinorelbine plus '\n",
            "                                                'cisplatin ( vc )',\n",
            "    'advanced nsclc': 'assessing combination chemotherapy of cisplatin , '\n",
            "                      'ifosfamide and irinotecan with rhg - csf support',\n",
            "    'advanced rectal cancer': 'Nerve - sparing surgery',\n",
            "    'advanced renal cell carcinoma': 'interferon alfa - N1 , interferon '\n",
            "                                     'alfa-2a , and interferon alfa-2b',\n",
            "    'advanced stage ( TNM IIB - IVB ) mycosis fungoides': 'combination '\n",
            "                                                          'chemotherapy '\n",
            "                                                          'program consisting '\n",
            "                                                          'of bleomycin and '\n",
            "                                                          'methotrexate weekly',\n",
            "    'asthma': 'Fluticasone propionate',\n",
            "    'autoimmune hemolytic anemia': 'heparin',\n",
            "    'bacterial meningitis include a dramatic decline Haemophilus influenzae meningitis': 'antibiotic '\n",
            "                                                                                         '- '\n",
            "                                                                                         'resistant '\n",
            "                                                                                         'strains',\n",
            "    'biliary colic symptoms biliary dyskinesia': 'cholecystectomy',\n",
            "    'biliary dyskinesia': 'Cholecystectomy',\n",
            "    'breast cancer': 'Hormone replacement therapy',\n",
            "    'bronchial asthma': 'Non - steroidal anti - inflammatory therapy',\n",
            "    'bronchiectasis': 'Current surgical therapy',\n",
            "    'cancer': 'Matrix metalloproteinase inhibitors',\n",
            "    'carcinoma': 'esophagectomy',\n",
            "    'cardiac disease': 'fenfluramine - phentermine',\n",
            "    'cerebral palsy': 'Hyperbaric oxygen therapy',\n",
            "    'cholestasis': 'crude drugs',\n",
            "    'chronic hepatitis C': 'Combination therapy with interferon - alpha ( IFN '\n",
            "                           'alpha ) plus Ribavirin',\n",
            "    'colorectal cancer': 'docosahexanoic acid ( DHA ) -concentrated fish oil '\n",
            "                         'capsules',\n",
            "    'colorectal metastases': 'therapeutic vats metastasectomy',\n",
            "    'common cold': 'Macrolide antibiotics',\n",
            "    'coronary - artery disease': 'Antichlamydial antibiotics',\n",
            "    'corpal gastritis': 'gastric acid secretion',\n",
            "    'disseminated malignant melanoma': 'leukocyte A recombinant interferon ( '\n",
            "                                       'rIFN - alpha A , Roferon - A',\n",
            "    'duodenal ulcer': 'subtotal gastrectomy',\n",
            "    'duodenogastric reflux': 'cholecystectomy',\n",
            "    \"early Parkinson 's disease\": 'Ropinirole monotherapy',\n",
            "    'empyema': 'Thoracoscopy',\n",
            "    'epilepsy': 'Methylphenidate',\n",
            "    'epithelial ovarian cancer': 'High - dose chemotherapy with autologous '\n",
            "                                 'stem - cell support',\n",
            "    'esophageal achalasia': 'botulinum toxin injection , pneumatic dilation , '\n",
            "                            'and laparoscopic myotomy',\n",
            "    'female stress urinary incontinence': 'surgical treatment',\n",
            "    'foot infection': 'G - CSF treatment',\n",
            "    'gastrointestinal tumours': 'Elective surgery',\n",
            "    'gestational diabetes cases': 'good glycemic control',\n",
            "    'head and neck cancer': 'irradiation therapy intravenous amifostine',\n",
            "    'heart failure': 'beta - blockade',\n",
            "    'hemorrhagic stroke': 'double - bolus alteplase alteplase ( P=0.24',\n",
            "    'hepatic metastases from colorectal cancer': 'Hepatic arterial infusion of '\n",
            "                                                 'chemotherapy after resection',\n",
            "    'hepatitis C viremia': 'combination therapy',\n",
            "    'infection': 'antileukemic therapy',\n",
            "    'inflammation': 'video - assisted thoracoscopic surgery',\n",
            "    'inflammatory and autoimmune diseases': 'High - dose intravenous '\n",
            "                                            'immunoglobulin ( hdIVIg )',\n",
            "    'inflammatory skin diseases': 'topical corticosteroids',\n",
            "    'influenza breast cancer': 'vaccination',\n",
            "    'intraluminal early - stage cancer': 'photodynamic therapy , nd - yag '\n",
            "                                         'laser and electrocautery',\n",
            "    'irritable bowel syndrome': 'Chinese herbal medicine',\n",
            "    'ischemic heart disease': 'Aortocoronary bypass grafting',\n",
            "    'limited - stage small - cell carcinoma of the lung': 'combined - modality '\n",
            "                                                          'therapy',\n",
            "    'limited stage small cell lung cancer': 'vip combination chemotherapy and '\n",
            "                                            'early concurrent thoracic '\n",
            "                                            'irradiation',\n",
            "    'locally advanced non - small - cell lung cancer ( la - nsclc )': 'combined '\n",
            "                                                                      '- '\n",
            "                                                                      'modality '\n",
            "                                                                      'therapy '\n",
            "                                                                      '( cmt ; '\n",
            "                                                                      'chemotherapy '\n",
            "                                                                      'and '\n",
            "                                                                      'radiotherapy '\n",
            "                                                                      ')',\n",
            "    \"low - grade non - Hodgkin 's lymphoma\": 'interferon alpha',\n",
            "    'lung carcinoma': 'videothoracoscopic lobectomy or partial resection of '\n",
            "                      'the lung instead of an open thoracotomy',\n",
            "    'lymphoma': 'Paclitaxel',\n",
            "    'major pulmonary embolism': 'thrombolytic treatment',\n",
            "    'malignant melanoma': 'single agent therapy interferon alfa-2a',\n",
            "    'malignant pleural effusions from nsclc': 'systemic chemotherapy',\n",
            "    'malignant pleural mesothelioma': 'thoracotomy , radiotherapy , and '\n",
            "                                      'chemotherapy',\n",
            "    'malignant tumors such as non - small cell lung cancer': 'surgery',\n",
            "    'metastatic colorectal cancer': 'other agents',\n",
            "    'mitomycin - resistant bladder cancer': 'photodynamic therapy in '\n",
            "                                            'combination with mitomycin C',\n",
            "    'moderately symptomatic benign prostatic hyperplasia': 'surgical resection',\n",
            "    'multiple sclerosis': 'Intravenous immunoglobulin treatment',\n",
            "    'myocardial angiogenesis': 'Gene therapy',\n",
            "    'non - functioning endocrine pancreatic tumor': 'i.m . lanreotide therapy',\n",
            "    \"non - hodgkin 's lymphoma breast cancer mesothelioma and non - small cell lung cancer\": 'oxaliplatin',\n",
            "    'non - obstructive azoospermia': 'TEFNA',\n",
            "    'non - seminomatous germ - cell tumors': 'chemotherapy',\n",
            "    'non - small - cell - lung - cancer ( nsclc ) patients': 'cisplatin and '\n",
            "                                                             'radiotherapy',\n",
            "    'non - small cell lung cancer hormone refractory prostate cancer': 'paclitaxel '\n",
            "                                                                       'and '\n",
            "                                                                       'carboplatin',\n",
            "    'nonimmune hydrops fetalis': 'Trisomy',\n",
            "    'novel hepatitis B': 'vaccine',\n",
            "    'nsclc': 'sequential chemotherapy',\n",
            "    'nsclc nsclc ( stage iiib ) sclc': 'got surgical treatment chemo- and '\n",
            "                                       'radiotherapy',\n",
            "    'orthotopic tumor control': 'adenovirus - mediated interleukin 12 ( il-12 '\n",
            "                                ') gene therapy',\n",
            "    'partial seizures': 'lamotrigine monotherapy',\n",
            "    'perioperative mortality and myocardial infarction': 'vascular surgery',\n",
            "    'persistent asthma': 'Contemporary asthma management guidelines list '\n",
            "                         'inhaled corticosteroids',\n",
            "    'pertussis': 'vaccines',\n",
            "    'phaeochromocytoma': 'Adrenalectomy',\n",
            "    'postvitrectomy diabetic vitreous hemorrhage': 'Peripheral retinal '\n",
            "                                                   'cryotherapy',\n",
            "    'preeclampsia ( proteinuric hypertension )': 'intrauterine insemination '\n",
            "                                                 'with donor sperm '\n",
            "                                                 'intrauterine insemination',\n",
            "    'primary lung cancer adenocarcinoma squamous cell carcinoma ( sq )': 'resection',\n",
            "    'primary pulmonary hypertension ( PPH )': 'fenfluramines',\n",
            "    'primary tumor ( li ) bronchogenic carcinoma': 'resection',\n",
            "    'prostate cancer': 'radical prostatectomy and iodine 125 interstitial '\n",
            "                       'radiotherapy',\n",
            "    'proximal hypospadias': 'Tubularized incised plate hypospadias repair',\n",
            "    'psoriasis': 'topical therapy',\n",
            "    'pulmonary hypertension': 'Single or double lung transplantation',\n",
            "    'radiation - induced myelopathy': 'heparin and enoxaparin',\n",
            "    'regionally advanced disease': 'resection , allowing neoadjuvant therapy',\n",
            "    'renal cell carcinoma': 'Interferon treatment',\n",
            "    'renovascular hypertension': 'Percutaneous transluminal angioplasty',\n",
            "    'responsive multiple myeloma': \"` ` Tandem '' high - dose \"\n",
            "                                   'chemoradiotherapy with autologous stem - '\n",
            "                                   'cell support',\n",
            "    'retinoblastoma': 'radiotherapy',\n",
            "    'rheumatoid arthritis': 'arthrodesis',\n",
            "    's.c . tumors peritoneal tumors': 'Subcutaneous injection of irradiated '\n",
            "                                      'LLC - IL2 did',\n",
            "    'sclc extensive disease': 'platinum dose ( cisplatin plus carboplatin ) in '\n",
            "                              'combination chemotherapy combination therapy '\n",
            "                              'with carboplatin',\n",
            "    'severe acquired hyperammonemia cancer': 'organ transplantation and '\n",
            "                                             'chemotherapy',\n",
            "    'severe acute hepatitis accompanying cholestasis autoimmune hepatitis': 'TJ-135',\n",
            "    'severe diverticular hemorrhage': 'Urgent colonoscopy',\n",
            "    'severe hypoxemia': 'glucocorticoid pulse therapy',\n",
            "    'severe secondary peritonitis': 'Surgical management',\n",
            "    'single non - sclc ovarian carcinoma brain metastasis': 'surgical '\n",
            "                                                            'resection',\n",
            "    'small - cell lung cancer': 'combination chemotherapy',\n",
            "    'sore throat': 'Antibiotics',\n",
            "    'spontaneous pneumothorax': 'Thoracoscopic surgery',\n",
            "    'stage 0 lung carcinoma': 'curative therapy',\n",
            "    'stage iii nsclc': 'chemotherapy administered before surgery or definitive '\n",
            "                       'irradiation',\n",
            "    'stenosis': 'thrombolytic therapy',\n",
            "    'supraclavicular node metastases in nsclc': 'chemoradiotherapy',\n",
            "    'symptomatic bronchiectasis': 'antibiotics , antibronchoobstructive '\n",
            "                                  'medication , and chest physical therapy',\n",
            "    'syringomyelia spinal adhesive arachnoiditis': 'Surgical management',\n",
            "    'testicular bleeding': 'fine needle aspiration',\n",
            "    'third nerve palsy': 'lateral rectus surgery sixth nerve palsy',\n",
            "    'unstable angina or non - Q - wave myocardial infarction': 'roxithromycin',\n",
            "    'untreated small cell lung cancer ( sclc ) untreated sclc': 'technetium-99 '\n",
            "                                                                'm tetrofosmin '\n",
            "                                                                '( tc - tf ) '\n",
            "                                                                'accumulation '\n",
            "                                                                'chemotherapy',\n",
            "    'ventricular tachycardia': 'surgical therapy'}\n"
          ]
        }
      ],
      "source": [
        "pp.pprint(med_dict, indent = 4)"
      ]
    },
    {
      "cell_type": "code",
      "execution_count": 39,
      "metadata": {
        "colab": {
          "base_uri": "https://localhost:8080/"
        },
        "id": "pGHTwEA4_jW7",
        "outputId": "3545dec9-7ad4-4a84-fcf1-d83b25c9ed58"
      },
      "outputs": [
        {
          "name": "stdout",
          "output_type": "stream",
          "text": [
            "Identified Disease:  cancer\n",
            "Identified Treatment:  Matrix metalloproteinase inhibitors\n"
          ]
        }
      ],
      "source": [
        "#Predict treatment withthe help of dictionary\n",
        "d=[]\n",
        "disease=''\n",
        "test_sent=[]\n",
        "treatment=''\n",
        "\n",
        "input_sent = 'Rahul suffering from cancer'\n",
        "m = spacy.load('en_core_web_sm')\n",
        "doc = m(input_sent)\n",
        "for i in doc:\n",
        "    d.append((i.text,i.pos_,'D'))\n",
        "test_sent.append(sent2features(d))\n",
        "for i,tag in enumerate(crf.predict(test_sent)[0]):\n",
        "    if tag == 'D':\n",
        "        tr = input_sent.split()[i]\n",
        "        disease += tr\n",
        "        if tr in med_dict:\n",
        "            treatment += ''+med_dict.get(tr)\n",
        "if len(treatment) == 0:\n",
        "    treatment='None'\n",
        "print('Identified Disease: ',disease)\n",
        "print('Identified Treatment: ', treatment)"
      ]
    },
    {
      "cell_type": "code",
      "execution_count": null,
      "metadata": {},
      "outputs": [],
      "source": []
    }
  ],
  "metadata": {
    "accelerator": "GPU",
    "colab": {
      "gpuType": "T4",
      "provenance": []
    },
    "kernelspec": {
      "display_name": "Python 3",
      "name": "python3"
    },
    "language_info": {
      "codemirror_mode": {
        "name": "ipython",
        "version": 3
      },
      "file_extension": ".py",
      "mimetype": "text/x-python",
      "name": "python",
      "nbconvert_exporter": "python",
      "pygments_lexer": "ipython3",
      "version": "3.11.4"
    }
  },
  "nbformat": 4,
  "nbformat_minor": 0
}
